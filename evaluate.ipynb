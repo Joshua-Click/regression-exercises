{
 "cells": [
  {
   "cell_type": "code",
   "execution_count": 1,
   "metadata": {},
   "outputs": [],
   "source": [
    "import warnings\n",
    "warnings.filterwarnings(\"ignore\")\n",
    "\n",
    "import pandas as pd\n",
    "import numpy as np\n",
    "\n",
    "import matplotlib.pyplot as plt\n",
    "import seaborn as sns\n",
    "\n",
    "from sklearn.model_selection import train_test_split\n",
    "from scipy.stats import pearsonr, spearmanr\n",
    "\n",
    "from env import get_db_url\n",
    "import wrangle as w\n",
    "import prepare as p\n",
    "import matplotlib as mpl\n",
    "mpl.rcParams[\"axes.formatter.useoffset\"] = False\n",
    "#import sklearn mean_square_error\n",
    "from sklearn.metrics import mean_squared_error\n",
    "#import r2_score from sklearn\n",
    "from sklearn.metrics import r2_score\n",
    "import sklearn.preprocessing"
   ]
  },
  {
   "cell_type": "markdown",
   "metadata": {},
   "source": [
    "### 1. Load your zillow dataset.\n",
    "\n"
   ]
  },
  {
   "cell_type": "code",
   "execution_count": 2,
   "metadata": {},
   "outputs": [
    {
     "data": {
      "text/html": [
       "<div>\n",
       "<style scoped>\n",
       "    .dataframe tbody tr th:only-of-type {\n",
       "        vertical-align: middle;\n",
       "    }\n",
       "\n",
       "    .dataframe tbody tr th {\n",
       "        vertical-align: top;\n",
       "    }\n",
       "\n",
       "    .dataframe thead th {\n",
       "        text-align: right;\n",
       "    }\n",
       "</style>\n",
       "<table border=\"1\" class=\"dataframe\">\n",
       "  <thead>\n",
       "    <tr style=\"text-align: right;\">\n",
       "      <th></th>\n",
       "      <th>Column Name</th>\n",
       "      <th>Number of Unique Values</th>\n",
       "      <th>Unique Values</th>\n",
       "      <th>Number of Null Values</th>\n",
       "      <th>dtype</th>\n",
       "    </tr>\n",
       "  </thead>\n",
       "  <tbody>\n",
       "    <tr>\n",
       "      <th>6</th>\n",
       "      <td>county</td>\n",
       "      <td>3</td>\n",
       "      <td>[LA, Orange, Ventura]</td>\n",
       "      <td>0</td>\n",
       "      <td>object</td>\n",
       "    </tr>\n",
       "    <tr>\n",
       "      <th>0</th>\n",
       "      <td>bedrooms</td>\n",
       "      <td>19</td>\n",
       "      <td>[4, 3, 0, 5, 2, 1, 6, 7, 8, 9, 25, 10, 11, 14,...</td>\n",
       "      <td>0</td>\n",
       "      <td>int64</td>\n",
       "    </tr>\n",
       "    <tr>\n",
       "      <th>1</th>\n",
       "      <td>bathrooms</td>\n",
       "      <td>38</td>\n",
       "      <td>[2.0, 4.0, 0.0, 1.0, 2.5, 3.5, 3.0, 5.5, 4.5, ...</td>\n",
       "      <td>0</td>\n",
       "      <td>float64</td>\n",
       "    </tr>\n",
       "    <tr>\n",
       "      <th>4</th>\n",
       "      <td>year_built</td>\n",
       "      <td>153</td>\n",
       "      <td>[2005, 2011, 1926, 1972, 1973, 1960, 1950, 195...</td>\n",
       "      <td>0</td>\n",
       "      <td>int64</td>\n",
       "    </tr>\n",
       "    <tr>\n",
       "      <th>2</th>\n",
       "      <td>finished_area</td>\n",
       "      <td>10557</td>\n",
       "      <td>[3633, 1620, 2077, 1200, 171, 203, 1244, 1300,...</td>\n",
       "      <td>0</td>\n",
       "      <td>int64</td>\n",
       "    </tr>\n",
       "    <tr>\n",
       "      <th>3</th>\n",
       "      <td>tax_value</td>\n",
       "      <td>588178</td>\n",
       "      <td>[296425, 847770, 646760, 5328, 6920, 14166, 16...</td>\n",
       "      <td>0</td>\n",
       "      <td>int64</td>\n",
       "    </tr>\n",
       "    <tr>\n",
       "      <th>5</th>\n",
       "      <td>tax_amount</td>\n",
       "      <td>915868</td>\n",
       "      <td>[6941.39, 10244.94, 7924.68, 91.6, 255.17, 163...</td>\n",
       "      <td>0</td>\n",
       "      <td>float64</td>\n",
       "    </tr>\n",
       "  </tbody>\n",
       "</table>\n",
       "</div>"
      ],
      "text/plain": [
       "     Column Name  Number of Unique Values  \\\n",
       "6         county                        3   \n",
       "0       bedrooms                       19   \n",
       "1      bathrooms                       38   \n",
       "4     year_built                      153   \n",
       "2  finished_area                    10557   \n",
       "3      tax_value                   588178   \n",
       "5     tax_amount                   915868   \n",
       "\n",
       "                                       Unique Values  Number of Null Values  \\\n",
       "6                              [LA, Orange, Ventura]                      0   \n",
       "0  [4, 3, 0, 5, 2, 1, 6, 7, 8, 9, 25, 10, 11, 14,...                      0   \n",
       "1  [2.0, 4.0, 0.0, 1.0, 2.5, 3.5, 3.0, 5.5, 4.5, ...                      0   \n",
       "4  [2005, 2011, 1926, 1972, 1973, 1960, 1950, 195...                      0   \n",
       "2  [3633, 1620, 2077, 1200, 171, 203, 1244, 1300,...                      0   \n",
       "3  [296425, 847770, 646760, 5328, 6920, 14166, 16...                      0   \n",
       "5  [6941.39, 10244.94, 7924.68, 91.6, 255.17, 163...                      0   \n",
       "\n",
       "     dtype  \n",
       "6   object  \n",
       "0    int64  \n",
       "1  float64  \n",
       "4    int64  \n",
       "2    int64  \n",
       "3    int64  \n",
       "5  float64  "
      ]
     },
     "execution_count": 2,
     "metadata": {},
     "output_type": "execute_result"
    }
   ],
   "source": [
    "df = w.get_zillow_2017\n",
    "df = w.wrangle_zillow()\n",
    "w.check_columns(df)"
   ]
  },
  {
   "cell_type": "code",
   "execution_count": 3,
   "metadata": {},
   "outputs": [
    {
     "data": {
      "text/html": [
       "<div>\n",
       "<style scoped>\n",
       "    .dataframe tbody tr th:only-of-type {\n",
       "        vertical-align: middle;\n",
       "    }\n",
       "\n",
       "    .dataframe tbody tr th {\n",
       "        vertical-align: top;\n",
       "    }\n",
       "\n",
       "    .dataframe thead th {\n",
       "        text-align: right;\n",
       "    }\n",
       "</style>\n",
       "<table border=\"1\" class=\"dataframe\">\n",
       "  <thead>\n",
       "    <tr style=\"text-align: right;\">\n",
       "      <th></th>\n",
       "      <th>bedrooms</th>\n",
       "      <th>bathrooms</th>\n",
       "      <th>finished_area</th>\n",
       "      <th>tax_value</th>\n",
       "      <th>year_built</th>\n",
       "      <th>tax_amount</th>\n",
       "      <th>county</th>\n",
       "    </tr>\n",
       "  </thead>\n",
       "  <tbody>\n",
       "    <tr>\n",
       "      <th>4</th>\n",
       "      <td>4</td>\n",
       "      <td>2.0</td>\n",
       "      <td>3633</td>\n",
       "      <td>296425</td>\n",
       "      <td>2005</td>\n",
       "      <td>6941.39</td>\n",
       "      <td>LA</td>\n",
       "    </tr>\n",
       "    <tr>\n",
       "      <th>6</th>\n",
       "      <td>3</td>\n",
       "      <td>4.0</td>\n",
       "      <td>1620</td>\n",
       "      <td>847770</td>\n",
       "      <td>2011</td>\n",
       "      <td>10244.94</td>\n",
       "      <td>LA</td>\n",
       "    </tr>\n",
       "    <tr>\n",
       "      <th>7</th>\n",
       "      <td>3</td>\n",
       "      <td>2.0</td>\n",
       "      <td>2077</td>\n",
       "      <td>646760</td>\n",
       "      <td>1926</td>\n",
       "      <td>7924.68</td>\n",
       "      <td>LA</td>\n",
       "    </tr>\n",
       "  </tbody>\n",
       "</table>\n",
       "</div>"
      ],
      "text/plain": [
       "   bedrooms  bathrooms  finished_area  tax_value  year_built  tax_amount  \\\n",
       "4         4        2.0           3633     296425        2005     6941.39   \n",
       "6         3        4.0           1620     847770        2011    10244.94   \n",
       "7         3        2.0           2077     646760        1926     7924.68   \n",
       "\n",
       "  county  \n",
       "4     LA  \n",
       "6     LA  \n",
       "7     LA  "
      ]
     },
     "execution_count": 3,
     "metadata": {},
     "output_type": "execute_result"
    }
   ],
   "source": [
    "df.head(3)"
   ]
  },
  {
   "cell_type": "code",
   "execution_count": 4,
   "metadata": {},
   "outputs": [],
   "source": [
    "df = df.drop(columns=['county'])"
   ]
  },
  {
   "cell_type": "code",
   "execution_count": 5,
   "metadata": {},
   "outputs": [
    {
     "data": {
      "text/html": [
       "<div>\n",
       "<style scoped>\n",
       "    .dataframe tbody tr th:only-of-type {\n",
       "        vertical-align: middle;\n",
       "    }\n",
       "\n",
       "    .dataframe tbody tr th {\n",
       "        vertical-align: top;\n",
       "    }\n",
       "\n",
       "    .dataframe thead th {\n",
       "        text-align: right;\n",
       "    }\n",
       "</style>\n",
       "<table border=\"1\" class=\"dataframe\">\n",
       "  <thead>\n",
       "    <tr style=\"text-align: right;\">\n",
       "      <th></th>\n",
       "      <th>bedrooms</th>\n",
       "      <th>bathrooms</th>\n",
       "      <th>finished_area</th>\n",
       "      <th>tax_value</th>\n",
       "      <th>year_built</th>\n",
       "      <th>tax_amount</th>\n",
       "    </tr>\n",
       "  </thead>\n",
       "  <tbody>\n",
       "    <tr>\n",
       "      <th>4</th>\n",
       "      <td>4</td>\n",
       "      <td>2.0</td>\n",
       "      <td>3633</td>\n",
       "      <td>296425</td>\n",
       "      <td>2005</td>\n",
       "      <td>6941.39</td>\n",
       "    </tr>\n",
       "    <tr>\n",
       "      <th>6</th>\n",
       "      <td>3</td>\n",
       "      <td>4.0</td>\n",
       "      <td>1620</td>\n",
       "      <td>847770</td>\n",
       "      <td>2011</td>\n",
       "      <td>10244.94</td>\n",
       "    </tr>\n",
       "    <tr>\n",
       "      <th>7</th>\n",
       "      <td>3</td>\n",
       "      <td>2.0</td>\n",
       "      <td>2077</td>\n",
       "      <td>646760</td>\n",
       "      <td>1926</td>\n",
       "      <td>7924.68</td>\n",
       "    </tr>\n",
       "    <tr>\n",
       "      <th>11</th>\n",
       "      <td>0</td>\n",
       "      <td>0.0</td>\n",
       "      <td>1200</td>\n",
       "      <td>5328</td>\n",
       "      <td>1972</td>\n",
       "      <td>91.60</td>\n",
       "    </tr>\n",
       "    <tr>\n",
       "      <th>14</th>\n",
       "      <td>0</td>\n",
       "      <td>0.0</td>\n",
       "      <td>171</td>\n",
       "      <td>6920</td>\n",
       "      <td>1973</td>\n",
       "      <td>255.17</td>\n",
       "    </tr>\n",
       "  </tbody>\n",
       "</table>\n",
       "</div>"
      ],
      "text/plain": [
       "    bedrooms  bathrooms  finished_area  tax_value  year_built  tax_amount\n",
       "4          4        2.0           3633     296425        2005     6941.39\n",
       "6          3        4.0           1620     847770        2011    10244.94\n",
       "7          3        2.0           2077     646760        1926     7924.68\n",
       "11         0        0.0           1200       5328        1972       91.60\n",
       "14         0        0.0            171       6920        1973      255.17"
      ]
     },
     "execution_count": 5,
     "metadata": {},
     "output_type": "execute_result"
    }
   ],
   "source": [
    "df.head()"
   ]
  },
  {
   "cell_type": "code",
   "execution_count": 6,
   "metadata": {},
   "outputs": [
    {
     "name": "stdout",
     "output_type": "stream",
     "text": [
      "Train: 0.5599997196569536\n",
      "Validate: 0.24000028034304643\n",
      "Test: 0.2\n"
     ]
    }
   ],
   "source": [
    "train, validate, test = w.split_continuous(df)"
   ]
  },
  {
   "cell_type": "markdown",
   "metadata": {},
   "source": [
    "### 2. Fit a linear regression model (ordinary least squares) and compute yhat, predictions of taxvaluedollarcnt using only calculatedfinishedsqft.\n",
    "\n",
    "\n",
    "\n"
   ]
  },
  {
   "cell_type": "code",
   "execution_count": 15,
   "metadata": {},
   "outputs": [
    {
     "data": {
      "text/html": [
       "<div>\n",
       "<style scoped>\n",
       "    .dataframe tbody tr th:only-of-type {\n",
       "        vertical-align: middle;\n",
       "    }\n",
       "\n",
       "    .dataframe tbody tr th {\n",
       "        vertical-align: top;\n",
       "    }\n",
       "\n",
       "    .dataframe thead th {\n",
       "        text-align: right;\n",
       "    }\n",
       "</style>\n",
       "<table border=\"1\" class=\"dataframe\">\n",
       "  <thead>\n",
       "    <tr style=\"text-align: right;\">\n",
       "      <th></th>\n",
       "      <th>finished_area</th>\n",
       "      <th>tax_value</th>\n",
       "    </tr>\n",
       "  </thead>\n",
       "  <tbody>\n",
       "    <tr>\n",
       "      <th>1937068</th>\n",
       "      <td>2154</td>\n",
       "      <td>910679</td>\n",
       "    </tr>\n",
       "    <tr>\n",
       "      <th>1201703</th>\n",
       "      <td>1224</td>\n",
       "      <td>66845</td>\n",
       "    </tr>\n",
       "    <tr>\n",
       "      <th>751562</th>\n",
       "      <td>2358</td>\n",
       "      <td>247161</td>\n",
       "    </tr>\n",
       "    <tr>\n",
       "      <th>235077</th>\n",
       "      <td>1513</td>\n",
       "      <td>70917</td>\n",
       "    </tr>\n",
       "    <tr>\n",
       "      <th>1991181</th>\n",
       "      <td>2004</td>\n",
       "      <td>711410</td>\n",
       "    </tr>\n",
       "    <tr>\n",
       "      <th>...</th>\n",
       "      <td>...</td>\n",
       "      <td>...</td>\n",
       "    </tr>\n",
       "    <tr>\n",
       "      <th>1623860</th>\n",
       "      <td>1461</td>\n",
       "      <td>63411</td>\n",
       "    </tr>\n",
       "    <tr>\n",
       "      <th>632529</th>\n",
       "      <td>2546</td>\n",
       "      <td>472017</td>\n",
       "    </tr>\n",
       "    <tr>\n",
       "      <th>2013671</th>\n",
       "      <td>1195</td>\n",
       "      <td>234096</td>\n",
       "    </tr>\n",
       "    <tr>\n",
       "      <th>588048</th>\n",
       "      <td>1706</td>\n",
       "      <td>151008</td>\n",
       "    </tr>\n",
       "    <tr>\n",
       "      <th>1872760</th>\n",
       "      <td>1579</td>\n",
       "      <td>415534</td>\n",
       "    </tr>\n",
       "  </tbody>\n",
       "</table>\n",
       "<p>1198531 rows × 2 columns</p>\n",
       "</div>"
      ],
      "text/plain": [
       "         finished_area  tax_value\n",
       "1937068           2154     910679\n",
       "1201703           1224      66845\n",
       "751562            2358     247161\n",
       "235077            1513      70917\n",
       "1991181           2004     711410\n",
       "...                ...        ...\n",
       "1623860           1461      63411\n",
       "632529            2546     472017\n",
       "2013671           1195     234096\n",
       "588048            1706     151008\n",
       "1872760           1579     415534\n",
       "\n",
       "[1198531 rows x 2 columns]"
      ]
     },
     "execution_count": 15,
     "metadata": {},
     "output_type": "execute_result"
    }
   ],
   "source": [
    "train.drop(columns=['bedrooms', 'bathrooms', 'year_built', 'tax_amount'])"
   ]
  },
  {
   "cell_type": "code",
   "execution_count": 16,
   "metadata": {},
   "outputs": [],
   "source": [
    "from sklearn.preprocessing import MinMaxScaler"
   ]
  },
  {
   "cell_type": "code",
   "execution_count": 26,
   "metadata": {},
   "outputs": [],
   "source": [
    "mms=MinMaxScaler()\n",
    "\n",
    "train['finished_area'] = mms.fit_transform(train[['finished_area']])"
   ]
  },
  {
   "cell_type": "code",
   "execution_count": 28,
   "metadata": {},
   "outputs": [],
   "source": [
    "X_train = train[['finished_area']]\n",
    "y_train = train.tax_value\n",
    "\n",
    "X_validate = validate[['finished_area']]\n",
    "y_validate = validate.tax_value\n",
    "\n",
    "X_test = test[['finished_area']]\n",
    "y_test = test.tax_value"
   ]
  },
  {
   "cell_type": "code",
   "execution_count": 29,
   "metadata": {},
   "outputs": [],
   "source": [
    "from sklearn.linear_model import LinearRegression"
   ]
  },
  {
   "cell_type": "code",
   "execution_count": 30,
   "metadata": {},
   "outputs": [],
   "source": [
    "model = LinearRegression().fit(X_train, y_train)\n",
    "\n",
    "predictions = model.predict(X_train)"
   ]
  },
  {
   "cell_type": "code",
   "execution_count": 31,
   "metadata": {},
   "outputs": [],
   "source": [
    "train['yhat'] = predictions"
   ]
  },
  {
   "cell_type": "code",
   "execution_count": null,
   "metadata": {},
   "outputs": [],
   "source": []
  },
  {
   "cell_type": "markdown",
   "metadata": {},
   "source": [
    "Modify and add to the code above as necessary for it to work with the zillow dataset.\n",
    "\n"
   ]
  },
  {
   "cell_type": "markdown",
   "metadata": {},
   "source": [
    "### 3. Plot the residuals for the linear regression model that you made.\n",
    "\n"
   ]
  },
  {
   "cell_type": "code",
   "execution_count": 32,
   "metadata": {},
   "outputs": [],
   "source": [
    "train['residuals'] = train.tax_value - train.yhat"
   ]
  },
  {
   "cell_type": "code",
   "execution_count": 33,
   "metadata": {},
   "outputs": [
    {
     "data": {
      "text/html": [
       "<div>\n",
       "<style scoped>\n",
       "    .dataframe tbody tr th:only-of-type {\n",
       "        vertical-align: middle;\n",
       "    }\n",
       "\n",
       "    .dataframe tbody tr th {\n",
       "        vertical-align: top;\n",
       "    }\n",
       "\n",
       "    .dataframe thead th {\n",
       "        text-align: right;\n",
       "    }\n",
       "</style>\n",
       "<table border=\"1\" class=\"dataframe\">\n",
       "  <thead>\n",
       "    <tr style=\"text-align: right;\">\n",
       "      <th></th>\n",
       "      <th>bedrooms</th>\n",
       "      <th>bathrooms</th>\n",
       "      <th>finished_area</th>\n",
       "      <th>tax_value</th>\n",
       "      <th>year_built</th>\n",
       "      <th>tax_amount</th>\n",
       "      <th>yhat</th>\n",
       "      <th>residuals</th>\n",
       "    </tr>\n",
       "  </thead>\n",
       "  <tbody>\n",
       "    <tr>\n",
       "      <th>1937068</th>\n",
       "      <td>4</td>\n",
       "      <td>2.5</td>\n",
       "      <td>0.002260</td>\n",
       "      <td>910679</td>\n",
       "      <td>2001</td>\n",
       "      <td>11079.60</td>\n",
       "      <td>528076.989366</td>\n",
       "      <td>382602.010634</td>\n",
       "    </tr>\n",
       "    <tr>\n",
       "      <th>1201703</th>\n",
       "      <td>3</td>\n",
       "      <td>2.0</td>\n",
       "      <td>0.001284</td>\n",
       "      <td>66845</td>\n",
       "      <td>1952</td>\n",
       "      <td>1198.53</td>\n",
       "      <td>309641.840567</td>\n",
       "      <td>-242796.840567</td>\n",
       "    </tr>\n",
       "    <tr>\n",
       "      <th>751562</th>\n",
       "      <td>4</td>\n",
       "      <td>3.0</td>\n",
       "      <td>0.002474</td>\n",
       "      <td>247161</td>\n",
       "      <td>1972</td>\n",
       "      <td>3060.88</td>\n",
       "      <td>575991.796199</td>\n",
       "      <td>-328830.796199</td>\n",
       "    </tr>\n",
       "    <tr>\n",
       "      <th>235077</th>\n",
       "      <td>3</td>\n",
       "      <td>2.0</td>\n",
       "      <td>0.001587</td>\n",
       "      <td>70917</td>\n",
       "      <td>1965</td>\n",
       "      <td>1119.54</td>\n",
       "      <td>377521.150247</td>\n",
       "      <td>-306604.150247</td>\n",
       "    </tr>\n",
       "    <tr>\n",
       "      <th>1991181</th>\n",
       "      <td>3</td>\n",
       "      <td>3.0</td>\n",
       "      <td>0.002103</td>\n",
       "      <td>711410</td>\n",
       "      <td>2005</td>\n",
       "      <td>7652.36</td>\n",
       "      <td>492845.513753</td>\n",
       "      <td>218564.486247</td>\n",
       "    </tr>\n",
       "  </tbody>\n",
       "</table>\n",
       "</div>"
      ],
      "text/plain": [
       "         bedrooms  bathrooms  finished_area  tax_value  year_built  \\\n",
       "1937068         4        2.5       0.002260     910679        2001   \n",
       "1201703         3        2.0       0.001284      66845        1952   \n",
       "751562          4        3.0       0.002474     247161        1972   \n",
       "235077          3        2.0       0.001587      70917        1965   \n",
       "1991181         3        3.0       0.002103     711410        2005   \n",
       "\n",
       "         tax_amount           yhat      residuals  \n",
       "1937068    11079.60  528076.989366  382602.010634  \n",
       "1201703     1198.53  309641.840567 -242796.840567  \n",
       "751562      3060.88  575991.796199 -328830.796199  \n",
       "235077      1119.54  377521.150247 -306604.150247  \n",
       "1991181     7652.36  492845.513753  218564.486247  "
      ]
     },
     "execution_count": 33,
     "metadata": {},
     "output_type": "execute_result"
    }
   ],
   "source": [
    "train.head()"
   ]
  },
  {
   "cell_type": "code",
   "execution_count": 34,
   "metadata": {},
   "outputs": [
    {
     "data": {
      "image/png": "[encoded data removed]",
      "text/plain": [
       "<Figure size 640x480 with 1 Axes>"
      ]
     },
     "metadata": {},
     "output_type": "display_data"
    }
   ],
   "source": [
    "sns.scatterplot(data=train, x='tax_value',y='residuals')\n",
    "\n",
    "plt.xlabel('Home Value')\n",
    "plt.ylabel('Residuals')\n",
    "plt.title('Residual vs Home Value Plot')\n",
    "plt.show()"
   ]
  },
  {
   "cell_type": "markdown",
   "metadata": {},
   "source": [
    "### 4. Calculate the sum of squared errors, explained sum of squares, total sum of squares, mean squared error, and root mean squared error for your model.\n",
    "\n"
   ]
  },
  {
   "cell_type": "code",
   "execution_count": 35,
   "metadata": {},
   "outputs": [
    {
     "name": "stdout",
     "output_type": "stream",
     "text": [
      " MSE         : 364188522153.5771\n",
      " SSE         : 4.364912336452489e+17\n",
      " RMSE        : 603480.3411492185\n",
      " TSS         : 5.481176914102753e+17\n",
      " ESS         : 1.1162645776502642e+17\n"
     ]
    }
   ],
   "source": [
    "# # Mean squared error\n",
    "\n",
    "MSE = mean_squared_error(train.tax_value, train.yhat)\n",
    "# Sum of Squared Errors\n",
    "\n",
    "SSE = MSE * len(train)\n",
    "# Root Mean Squared Error\n",
    "\n",
    "RMSE = MSE**.5\n",
    "\n",
    "# # ESS Explained Sum of Squares\n",
    "ESS = ((train.yhat - train.tax_value.mean())**2).sum()\n",
    "# TSS Total Sum of Squares\n",
    "TSS = ESS + SSE\n",
    "\n",
    "print(f' MSE         : {MSE}')\n",
    "print(f' SSE         : {SSE}')\n",
    "print(f' RMSE        : {RMSE}')\n",
    "print(f' TSS         : {TSS}')\n",
    "print(f' ESS         : {ESS}')"
   ]
  },
  {
   "cell_type": "markdown",
   "metadata": {},
   "source": [
    "### 5. Calculate the sum of squared errors, mean squared error, and root mean squared error for the baseline model (i.e. a model that always predicts the average taxvaluedollarcnt amount).\n",
    "\n"
   ]
  },
  {
   "cell_type": "code",
   "execution_count": 36,
   "metadata": {},
   "outputs": [],
   "source": [
    "train['baseline'] = train.tax_value.mean()"
   ]
  },
  {
   "cell_type": "code",
   "execution_count": 37,
   "metadata": {},
   "outputs": [
    {
     "name": "stdout",
     "output_type": "stream",
     "text": [
      " MSE Baseline: 457324584353.91504\n"
     ]
    }
   ],
   "source": [
    "MSE_baseline = mean_squared_error(train.tax_value, train.baseline)\n",
    "print(f' MSE Baseline: {MSE_baseline}')"
   ]
  },
  {
   "cell_type": "code",
   "execution_count": 38,
   "metadata": {},
   "outputs": [
    {
     "name": "stdout",
     "output_type": "stream",
     "text": [
      " SSE Baseline: 5.481176914102822e+17\n"
     ]
    }
   ],
   "source": [
    "SSE_baseline = MSE_baseline * len(train)\n",
    "print(f' SSE Baseline: {SSE_baseline}')"
   ]
  },
  {
   "cell_type": "code",
   "execution_count": 39,
   "metadata": {},
   "outputs": [
    {
     "name": "stdout",
     "output_type": "stream",
     "text": [
      " RMSE Baseline: 676257.7795145244\n"
     ]
    }
   ],
   "source": [
    "RMSE_baseline = MSE_baseline**.5\n",
    "print(f' RMSE Baseline: {RMSE_baseline}')"
   ]
  },
  {
   "cell_type": "markdown",
   "metadata": {},
   "source": [
    "### 6. Write python code that compares the sum of squared errors for your model against the sum of squared errors for the baseline model and outputs whether or not your model performs better than the baseline model.\n",
    "\n"
   ]
  },
  {
   "cell_type": "code",
   "execution_count": 40,
   "metadata": {},
   "outputs": [
    {
     "name": "stdout",
     "output_type": "stream",
     "text": [
      "My model is better than baseline\n"
     ]
    }
   ],
   "source": [
    "if SSE < SSE_baseline:\n",
    "    print('My model is better than baseline')\n",
    "else:\n",
    "    print('My model is worse than baseline')"
   ]
  },
  {
   "cell_type": "markdown",
   "metadata": {},
   "source": [
    "### 7. What is the amount of variance explained in your model?\n",
    "\n"
   ]
  },
  {
   "cell_type": "code",
   "execution_count": 42,
   "metadata": {},
   "outputs": [
    {
     "name": "stdout",
     "output_type": "stream",
     "text": [
      "0.20365417776940925 0.2036541777694192\n"
     ]
    }
   ],
   "source": [
    "R2 = ESS / TSS\n",
    "# or \n",
    "r2_score(train.tax_value, train.yhat)\n",
    "print(R2, r2_score(train.tax_value, train.yhat))"
   ]
  },
  {
   "cell_type": "markdown",
   "metadata": {},
   "source": [
    "### 8. Is your model better than the baseline model?\n",
    "\n"
   ]
  },
  {
   "cell_type": "code",
   "execution_count": 43,
   "metadata": {},
   "outputs": [
    {
     "data": {
      "text/plain": [
       "72777.43836530589"
      ]
     },
     "execution_count": 43,
     "metadata": {},
     "output_type": "execute_result"
    }
   ],
   "source": [
    "RMSE_baseline - RMSE"
   ]
  },
  {
   "cell_type": "markdown",
   "metadata": {},
   "source": [
    "### 9. Create a file named evaluate.py that contains the following functions.\n",
    "\n",
    "* plot_residuals(y, yhat): creates a residual plot\n",
    "* regression_errors(y, yhat): returns the following values:\n",
    "    * sum of squared errors (SSE)\n",
    "    * explained sum of squares (ESS)\n",
    "    * total sum of squares (TSS)\n",
    "    * mean squared error (MSE)\n",
    "    * root mean squared error (RMSE)\n",
    "* baseline_mean_errors(y): computes the SSE, MSE, and RMSE for the baseline model\n",
    "* better_than_baseline(y, yhat): returns true if your model performs better than the baseline, otherwise false"
   ]
  },
  {
   "cell_type": "code",
   "execution_count": 45,
   "metadata": {},
   "outputs": [],
   "source": [
    "def plot_residuals(y, yhat):\n",
    "    residuals = y - yhat\n",
    "    \n",
    "    plt.scatter(x=y, y=residuals)\n",
    "    plt.xlabel('Home Value')\n",
    "    plt.ylabel('Residuals')\n",
    "    plt.title('Residual vs Home Value Plot')\n",
    "    plt.show()"
   ]
  },
  {
   "cell_type": "code",
   "execution_count": 46,
   "metadata": {},
   "outputs": [
    {
     "data": {
      "image/png": "[encoded data removed]",
      "text/plain": [
       "<Figure size 640x480 with 1 Axes>"
      ]
     },
     "metadata": {},
     "output_type": "display_data"
    }
   ],
   "source": [
    "plot_residuals(train.tax_value, train.yhat)"
   ]
  },
  {
   "cell_type": "code",
   "execution_count": 47,
   "metadata": {},
   "outputs": [],
   "source": [
    "def regression_errors(y, yhat):\n",
    "    MSE = mean_squared_error(y, yhat)\n",
    "    SSE = MSE * len(y)\n",
    "    RMSE = MSE**.5\n",
    "    \n",
    "    ESS = ((yhat - y.mean())**2).sum()\n",
    "    TSS = ESS + SSE\n",
    "    \n",
    "    return SSE, ESS, TSS, MSE, RMSE"
   ]
  },
  {
   "cell_type": "code",
   "execution_count": 48,
   "metadata": {},
   "outputs": [
    {
     "data": {
      "text/plain": [
       "(4.364912336452489e+17,\n",
       " 1.1162645776502642e+17,\n",
       " 5.481176914102753e+17,\n",
       " 364188522153.5771,\n",
       " 603480.3411492185)"
      ]
     },
     "execution_count": 48,
     "metadata": {},
     "output_type": "execute_result"
    }
   ],
   "source": [
    "regression_errors(train.tax_value, train.yhat)"
   ]
  },
  {
   "cell_type": "code",
   "execution_count": 49,
   "metadata": {},
   "outputs": [],
   "source": [
    "def baseline_mean_errors(y):\n",
    "    baseline = np.repeat(y.mean(), len(y))\n",
    "    \n",
    "    MSE = mean_squared_error(y, baseline)\n",
    "    SSE = MSE * len(y)\n",
    "    RMSE = MSE**.5\n",
    "    \n",
    "    return SSE, MSE, RMSE"
   ]
  },
  {
   "cell_type": "code",
   "execution_count": 50,
   "metadata": {},
   "outputs": [
    {
     "data": {
      "text/plain": [
       "(5.481176914102822e+17, 457324584353.91504, 676257.7795145244)"
      ]
     },
     "execution_count": 50,
     "metadata": {},
     "output_type": "execute_result"
    }
   ],
   "source": [
    "baseline_mean_errors(train.tax_value)"
   ]
  },
  {
   "cell_type": "code",
   "execution_count": 51,
   "metadata": {},
   "outputs": [],
   "source": [
    "def better_than_baseline(y, yhat):\n",
    "    SSE, ESS, TSS, MSE, RMSE = regression_errors(y, yhat)\n",
    "    \n",
    "    SSE_baseline, MSE_baseline, RMSE_baseline = baseline_mean_errors(y)\n",
    "    \n",
    "    if SSE < SSE_baseline:\n",
    "        print('My OSL model performs better than baseline')\n",
    "    else:\n",
    "        print('My OSL model performs worse than baseline. :( )')"
   ]
  },
  {
   "cell_type": "code",
   "execution_count": 52,
   "metadata": {},
   "outputs": [
    {
     "name": "stdout",
     "output_type": "stream",
     "text": [
      "My OSL model performs better than baseline\n"
     ]
    }
   ],
   "source": [
    "better_than_baseline(train.tax_value, train.yhat)"
   ]
  },
  {
   "cell_type": "code",
   "execution_count": null,
   "metadata": {},
   "outputs": [],
   "source": []
  }
 ],
 "metadata": {
  "kernelspec": {
   "display_name": "base",
   "language": "python",
   "name": "python3"
  },
  "language_info": {
   "codemirror_mode": {
    "name": "ipython",
    "version": 3
   },
   "file_extension": ".py",
   "mimetype": "text/x-python",
   "name": "python",
   "nbconvert_exporter": "python",
   "pygments_lexer": "ipython3",
   "version": "3.11.3"
  },
  "orig_nbformat": 4
 },
 "nbformat": 4,
 "nbformat_minor": 2
}
